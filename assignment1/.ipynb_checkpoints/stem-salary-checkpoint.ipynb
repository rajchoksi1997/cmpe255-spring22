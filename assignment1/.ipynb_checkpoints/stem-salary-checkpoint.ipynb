{
 "cells": [
  {
   "cell_type": "code",
   "execution_count": null,
   "metadata": {},
   "outputs": [],
   "source": [
    "# !pip install tensorflow"
   ]
  },
  {
   "cell_type": "code",
   "execution_count": 2,
   "metadata": {
    "_cell_guid": "b1076dfc-b9ad-4769-8c92-a6c4dae69d19",
    "_uuid": "8f2839f25d086af736a60e9eeb907d3b93b6e0e5",
    "execution": {
     "iopub.execute_input": "2022-03-11T18:10:02.824526Z",
     "iopub.status.busy": "2022-03-11T18:10:02.823443Z",
     "iopub.status.idle": "2022-03-11T18:10:02.835846Z",
     "shell.execute_reply": "2022-03-11T18:10:02.834804Z",
     "shell.execute_reply.started": "2022-03-11T18:10:02.824467Z"
    }
   },
   "outputs": [
    {
     "ename": "ModuleNotFoundError",
     "evalue": "No module named 'tensorflow'",
     "output_type": "error",
     "traceback": [
      "\u001b[1;31m---------------------------------------------------------------------------\u001b[0m",
      "\u001b[1;31mModuleNotFoundError\u001b[0m                       Traceback (most recent call last)",
      "\u001b[1;32m<ipython-input-2-95441ade519a>\u001b[0m in \u001b[0;36m<module>\u001b[1;34m\u001b[0m\n\u001b[0;32m      7\u001b[0m \u001b[1;32mimport\u001b[0m \u001b[0mmatplotlib\u001b[0m\u001b[1;33m.\u001b[0m\u001b[0mpyplot\u001b[0m \u001b[1;32mas\u001b[0m \u001b[0mplt\u001b[0m\u001b[1;33m\u001b[0m\u001b[1;33m\u001b[0m\u001b[0m\n\u001b[0;32m      8\u001b[0m \u001b[1;32mimport\u001b[0m \u001b[0mseaborn\u001b[0m \u001b[1;32mas\u001b[0m \u001b[0msns\u001b[0m\u001b[1;33m\u001b[0m\u001b[1;33m\u001b[0m\u001b[0m\n\u001b[1;32m----> 9\u001b[1;33m \u001b[1;32mimport\u001b[0m \u001b[0mtensorflow\u001b[0m \u001b[1;32mas\u001b[0m \u001b[0mtf\u001b[0m\u001b[1;33m\u001b[0m\u001b[1;33m\u001b[0m\u001b[0m\n\u001b[0m\u001b[0;32m     10\u001b[0m \u001b[1;32mfrom\u001b[0m \u001b[0mtensorflow\u001b[0m \u001b[1;32mimport\u001b[0m \u001b[0mkeras\u001b[0m\u001b[1;33m\u001b[0m\u001b[1;33m\u001b[0m\u001b[0m\n\u001b[0;32m     11\u001b[0m \u001b[1;33m\u001b[0m\u001b[0m\n",
      "\u001b[1;31mModuleNotFoundError\u001b[0m: No module named 'tensorflow'"
     ]
    }
   ],
   "source": [
    "# This Python 3 environment comes with many helpful analytics libraries installed\n",
    "# It is defined by the kaggle/python Docker image: https://github.com/kaggle/docker-python\n",
    "# For example, here's several helpful packages to load\n",
    "\n",
    "import numpy as np # linear algebra\n",
    "import pandas as pd # data processing, CSV file I/O (e.g. pd.read_csv)\n",
    "import matplotlib.pyplot as plt\n",
    "import seaborn as sns\n",
    "import tensorflow as tf\n",
    "from tensorflow import keras\n",
    "\n",
    "# Input data files are available in the read-only \"../input/\" directory\n",
    "# For example, running this (by clicking run or pressing Shift+Enter) will list all files under the input directory\n",
    "\n",
    "import os\n",
    "for dirname, _, filenames in os.walk('/kaggle/input'):\n",
    "    for filename in filenames:\n",
    "        print(os.path.join(dirname, filename))\n",
    "\n",
    "# You can write up to 20GB to the current directory (/kaggle/working/) that gets preserved as output when you create a version using \"Save & Run All\" \n",
    "# You can also write temporary files to /kaggle/temp/, but they won't be saved outside of the current session"
   ]
  },
  {
   "cell_type": "markdown",
   "metadata": {},
   "source": [
    "# Data Preprocessing"
   ]
  },
  {
   "cell_type": "markdown",
   "metadata": {
    "execution": {
     "iopub.execute_input": "2022-03-02T03:55:34.111805Z",
     "iopub.status.busy": "2022-03-02T03:55:34.111086Z",
     "iopub.status.idle": "2022-03-02T03:55:34.115788Z",
     "shell.execute_reply": "2022-03-02T03:55:34.114803Z",
     "shell.execute_reply.started": "2022-03-02T03:55:34.111756Z"
    }
   },
   "source": [
    "## Analysis"
   ]
  },
  {
   "cell_type": "code",
   "execution_count": 1,
   "metadata": {
    "execution": {
     "iopub.execute_input": "2022-03-11T18:10:02.838371Z",
     "iopub.status.busy": "2022-03-11T18:10:02.838023Z",
     "iopub.status.idle": "2022-03-11T18:10:03.275826Z",
     "shell.execute_reply": "2022-03-11T18:10:03.274952Z",
     "shell.execute_reply.started": "2022-03-11T18:10:02.838327Z"
    }
   },
   "outputs": [
    {
     "ename": "NameError",
     "evalue": "name 'pd' is not defined",
     "output_type": "error",
     "traceback": [
      "\u001b[1;31m---------------------------------------------------------------------------\u001b[0m",
      "\u001b[1;31mNameError\u001b[0m                                 Traceback (most recent call last)",
      "\u001b[1;32m<ipython-input-1-c7cdcdb2c0d9>\u001b[0m in \u001b[0;36m<module>\u001b[1;34m\u001b[0m\n\u001b[1;32m----> 1\u001b[1;33m \u001b[0mdf\u001b[0m \u001b[1;33m=\u001b[0m \u001b[0mpd\u001b[0m\u001b[1;33m.\u001b[0m\u001b[0mread_csv\u001b[0m\u001b[1;33m(\u001b[0m\u001b[1;34m'/kaggle/input/data-science-and-stem-salaries/Levels_Fyi_Salary_Data.csv'\u001b[0m\u001b[1;33m)\u001b[0m\u001b[1;33m\u001b[0m\u001b[1;33m\u001b[0m\u001b[0m\n\u001b[0m\u001b[0;32m      2\u001b[0m \u001b[0mdf\u001b[0m \u001b[1;33m=\u001b[0m \u001b[0mdf\u001b[0m\u001b[1;33m.\u001b[0m\u001b[0mdrop\u001b[0m\u001b[1;33m(\u001b[0m\u001b[1;33m[\u001b[0m\u001b[1;34m'Race'\u001b[0m\u001b[1;33m,\u001b[0m \u001b[1;34m'Education'\u001b[0m\u001b[1;33m,\u001b[0m \u001b[1;34m'location'\u001b[0m\u001b[1;33m,\u001b[0m \u001b[1;34m'rowNumber'\u001b[0m\u001b[1;33m]\u001b[0m\u001b[1;33m,\u001b[0m \u001b[0maxis\u001b[0m\u001b[1;33m=\u001b[0m\u001b[1;36m1\u001b[0m\u001b[1;33m)\u001b[0m\u001b[1;33m\u001b[0m\u001b[1;33m\u001b[0m\u001b[0m\n\u001b[0;32m      3\u001b[0m \u001b[0mdf\u001b[0m\u001b[1;33m\u001b[0m\u001b[1;33m\u001b[0m\u001b[0m\n",
      "\u001b[1;31mNameError\u001b[0m: name 'pd' is not defined"
     ]
    }
   ],
   "source": [
    "df = pd.read_csv('/kaggle/input/data-science-and-stem-salaries/Levels_Fyi_Salary_Data.csv')\n",
    "df = df.drop(['Race', 'Education', 'location', 'rowNumber'], axis=1)\n",
    "df"
   ]
  },
  {
   "cell_type": "code",
   "execution_count": 30,
   "metadata": {
    "execution": {
     "iopub.execute_input": "2022-03-11T18:10:03.278107Z",
     "iopub.status.busy": "2022-03-11T18:10:03.277251Z",
     "iopub.status.idle": "2022-03-11T18:10:03.370355Z",
     "shell.execute_reply": "2022-03-11T18:10:03.369389Z",
     "shell.execute_reply.started": "2022-03-11T18:10:03.278058Z"
    }
   },
   "outputs": [],
   "source": [
    "df.describe()"
   ]
  },
  {
   "cell_type": "markdown",
   "metadata": {},
   "source": [
    "## Data Correction"
   ]
  },
  {
   "cell_type": "code",
   "execution_count": 31,
   "metadata": {
    "execution": {
     "iopub.execute_input": "2022-03-11T18:10:03.373553Z",
     "iopub.status.busy": "2022-03-11T18:10:03.373101Z",
     "iopub.status.idle": "2022-03-11T18:10:03.613803Z",
     "shell.execute_reply": "2022-03-11T18:10:03.612731Z",
     "shell.execute_reply.started": "2022-03-11T18:10:03.373503Z"
    }
   },
   "outputs": [],
   "source": [
    "print(f'Before\\n{df.isna().sum()}')\n",
    "\n",
    "# Drop na rows where there are relatively less # of rows\n",
    "df = df[df.company.notna()]\n",
    "df = df[df.level.notna()]\n",
    "df = df[df.dmaid.notna()]\n",
    "\n",
    "# Convert timestamp to year as particular day or time seems to be irrelavant to the dataset\n",
    "df.timestamp = list(map(lambda x: int(x.split(' ')[0].split('/')[2]), df.timestamp))\n",
    "\n",
    "# Replace wrong gender to na and na to 'Unknown' value\n",
    "df['gender'].replace('Title: Senior Software Engineer', np.nan, inplace=True)\n",
    "df.gender = df.gender.fillna('Unknown')\n",
    "\n",
    "print(f'\\nAfter\\n{df.isna().sum()}')"
   ]
  },
  {
   "cell_type": "markdown",
   "metadata": {},
   "source": [
    "## One Hot Encoding"
   ]
  },
  {
   "cell_type": "code",
   "execution_count": 32,
   "metadata": {
    "execution": {
     "iopub.execute_input": "2022-03-11T18:10:03.615399Z",
     "iopub.status.busy": "2022-03-11T18:10:03.615143Z",
     "iopub.status.idle": "2022-03-11T18:10:04.609520Z",
     "shell.execute_reply": "2022-03-11T18:10:04.608746Z",
     "shell.execute_reply.started": "2022-03-11T18:10:03.615368Z"
    }
   },
   "outputs": [],
   "source": [
    "title_one_hot = pd.get_dummies(df.title)\n",
    "cityid_one_hot = pd.get_dummies(df.cityid)\n",
    "company_one_hot = pd.get_dummies(df.company.str.lower())\n",
    "one_hot_df = df.drop(['title', 'cityid', 'company'],  axis=1) \\\n",
    "    .join(title_one_hot) \\\n",
    "    .join(cityid_one_hot) \\\n",
    "    .join(company_one_hot)\n",
    "one_hot_df.shape"
   ]
  },
  {
   "cell_type": "code",
   "execution_count": 33,
   "metadata": {
    "execution": {
     "iopub.execute_input": "2022-03-11T18:10:04.611099Z",
     "iopub.status.busy": "2022-03-11T18:10:04.610864Z",
     "iopub.status.idle": "2022-03-11T18:10:05.761076Z",
     "shell.execute_reply": "2022-03-11T18:10:05.760130Z",
     "shell.execute_reply.started": "2022-03-11T18:10:04.611072Z"
    }
   },
   "outputs": [],
   "source": [
    "# Salary cannot be 0\n",
    "\n",
    "one_hot_df = one_hot_df[one_hot_df.basesalary != 0]\n",
    "one_hot_df.shape"
   ]
  },
  {
   "cell_type": "code",
   "execution_count": 34,
   "metadata": {
    "execution": {
     "iopub.execute_input": "2022-03-11T18:10:05.763263Z",
     "iopub.status.busy": "2022-03-11T18:10:05.762675Z",
     "iopub.status.idle": "2022-03-11T18:10:05.770407Z",
     "shell.execute_reply": "2022-03-11T18:10:05.769768Z",
     "shell.execute_reply.started": "2022-03-11T18:10:05.763195Z"
    }
   },
   "outputs": [],
   "source": [
    "def split_dataset(data):\n",
    "    n = data.shape[0]\n",
    "    idx = np.arange(n)\n",
    "    np.random.shuffle(idx)\n",
    "    \n",
    "    data_shuffled = data.iloc[idx]\n",
    "    \n",
    "    n_train = int(0.75 * n)\n",
    "    data_train = data_shuffled.iloc[:n_train].copy()\n",
    "    data_test = data_shuffled.iloc[n_train:].copy()\n",
    "    \n",
    "    return data_train, data_test"
   ]
  },
  {
   "cell_type": "markdown",
   "metadata": {},
   "source": [
    "# Linear Regression: Location & Years of Experience"
   ]
  },
  {
   "cell_type": "code",
   "execution_count": 40,
   "metadata": {
    "execution": {
     "iopub.execute_input": "2022-03-11T18:31:46.890752Z",
     "iopub.status.busy": "2022-03-11T18:31:46.890407Z",
     "iopub.status.idle": "2022-03-11T18:31:47.081567Z",
     "shell.execute_reply": "2022-03-11T18:31:47.080655Z",
     "shell.execute_reply.started": "2022-03-11T18:31:46.890720Z"
    }
   },
   "outputs": [],
   "source": [
    "columns = list(filter(lambda col: col in cityid_one_hot.columns or col in title_one_hot.columns, one_hot_df.columns))\n",
    "# columns = []\n",
    "columns.append('yearsofexperience')\n",
    "\n",
    "X = one_hot_df[columns]\n",
    "y = one_hot_df['basesalary']\n",
    "X.head(), y.head()"
   ]
  },
  {
   "cell_type": "code",
   "execution_count": 41,
   "metadata": {
    "execution": {
     "iopub.execute_input": "2022-03-11T18:31:50.762724Z",
     "iopub.status.busy": "2022-03-11T18:31:50.762395Z",
     "iopub.status.idle": "2022-03-11T18:31:51.328161Z",
     "shell.execute_reply": "2022-03-11T18:31:51.327174Z",
     "shell.execute_reply.started": "2022-03-11T18:31:50.762691Z"
    }
   },
   "outputs": [],
   "source": [
    "X_train, X_test = split_dataset(X)\n",
    "y_train, y_test = split_dataset(y)\n",
    "X_train.shape, X_test.shape, y_train.shape, y_test.shape"
   ]
  },
  {
   "cell_type": "code",
   "execution_count": 42,
   "metadata": {
    "execution": {
     "iopub.execute_input": "2022-03-11T18:31:52.790714Z",
     "iopub.status.busy": "2022-03-11T18:31:52.790394Z",
     "iopub.status.idle": "2022-03-11T18:31:52.796544Z",
     "shell.execute_reply": "2022-03-11T18:31:52.795883Z",
     "shell.execute_reply.started": "2022-03-11T18:31:52.790681Z"
    }
   },
   "outputs": [],
   "source": [
    "def keras_linear_regression(xs, ys):\n",
    "    model = tf.keras.Sequential([keras.layers.Dense(units=1, input_shape=[xs.shape[1]])])\n",
    "    model.compile(optimizer='sgd', loss='mean_squared_error')\n",
    "    model.fit(xs, ys, epochs=500)\n",
    "    return model"
   ]
  },
  {
   "cell_type": "code",
   "execution_count": 43,
   "metadata": {
    "execution": {
     "iopub.execute_input": "2022-03-11T18:31:54.988200Z",
     "iopub.status.busy": "2022-03-11T18:31:54.987625Z",
     "iopub.status.idle": "2022-03-11T18:35:31.001452Z",
     "shell.execute_reply": "2022-03-11T18:35:31.000134Z",
     "shell.execute_reply.started": "2022-03-11T18:31:54.988145Z"
    }
   },
   "outputs": [],
   "source": [
    "model = keras_linear_regression(X_train, y_train)"
   ]
  },
  {
   "cell_type": "markdown",
   "metadata": {},
   "source": [
    "# Linear Regression: Company, Location & Years of Experience"
   ]
  },
  {
   "cell_type": "markdown",
   "metadata": {},
   "source": [
    "# Linear Regression: Companay & Years At Company"
   ]
  }
 ],
 "metadata": {
  "kernelspec": {
   "display_name": "Python 3",
   "language": "python",
   "name": "python3"
  },
  "language_info": {
   "codemirror_mode": {
    "name": "ipython",
    "version": 3
   },
   "file_extension": ".py",
   "mimetype": "text/x-python",
   "name": "python",
   "nbconvert_exporter": "python",
   "pygments_lexer": "ipython3",
   "version": "3.7.3"
  }
 },
 "nbformat": 4,
 "nbformat_minor": 4
}
